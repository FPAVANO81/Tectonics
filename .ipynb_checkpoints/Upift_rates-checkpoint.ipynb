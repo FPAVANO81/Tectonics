{
 "cells": [
  {
   "cell_type": "code",
   "execution_count": null,
   "metadata": {},
   "outputs": [],
   "source": [
    "#testing\n"
   ]
  },
  {
   "cell_type": "code",
   "execution_count": null,
   "metadata": {},
   "outputs": [],
   "source": [
    "#From Fluvial ESPIN 2020\n",
    "from landlab import RasterModelGrid\n",
    "\n",
    "# set up overland flow grid for small-scale floodplain\n",
    "Channel_Depth = 1\n",
    "Channel_Width = 10\n",
    "nX = 200\n",
    "nY = 100\n",
    "spacing = 1.0\n",
    "Datum = network_grid.at_node['topographic__elevation'][outlet_node] + Channel_Depth\n",
    "h_initFP = 0.05"
   ]
  },
  {
   "cell_type": "code",
   "execution_count": null,
   "metadata": {},
   "outputs": [],
   "source": [
    "# Take the landlab grid elevations and reshape into a box nrows x ncols\n",
    "        z_reshape = np.reshape(z[:],[nrows,ncols])"
   ]
  },
  {
   "cell_type": "code",
   "execution_count": null,
   "metadata": {},
   "outputs": [],
   "source": [
    "(grid, z) = read_esri_ascii('ztopo_1000x500y1.asc',name='topographic__elevation') \n",
    "\n",
    "# Take the landlab grid elevations and reshape into a box nrows x ncols\n",
    "        z_reshape = np.reshape(z[:],[nrows,ncols])\n",
    "z= "
   ]
  },
  {
   "cell_type": "code",
   "execution_count": null,
   "metadata": {},
   "outputs": [],
   "source": [
    "# RUN THE MODEL\n",
    "for i in range(iterations):\n",
    "\n",
    "    # if this is a time when tectonics happens, do tectonics\n",
    "    if slip_regime[i] > 0:\n",
    "\n",
    "        # Take the landlab grid elevations and reshape into a box nrows x ncols\n",
    "        z_reshape = np.reshape(z[:],[nrows,ncols])\n",
    "\n",
    "        # Calculate the offset that has accumulated for this time/event\n",
    "        # this is used to cound how much to shift the grid for this time/event\n",
    "        # after slip happens, the amount slipped is subtracted from accum_disp\n",
    "        if len(ofd_profile) == nrows: \n",
    "            accum_disp += ofd_profile\n",
    "            for j in range(ncols): accum_disp_total[:,j]+= ofd_profile\n",
    "\n",
    "        else:\n",
    "            accum_disp += ofd_profile[eq_counter,:]\n",
    "            for j in range(ncols): accum_disp_total[:,j]+= ofd_profile[eq_counter,:]\n",
    "\n",
    "\n",
    "        # keep track of total accumulated displacement\n",
    "        accum_disp_total_reshape = np.reshape(accum_disp_total,nrows*ncols)\n",
    "\n",
    "        # save total accumulated displacement in a field on the grid\n",
    "        displacement[:] = accum_disp_total_reshape\n",
    "\n",
    "        # count number of pixels to be moved this time/event\n",
    "        nshift[:] = np.floor(accum_disp/dxy)\n",
    "\n",
    "        # now scan up the landscape row by row looking for offset\n",
    "        for r in range(nrows): # change xrange to range for Py3\n",
    "\n",
    "            # check if the accumulated offset for a row is larger than a pixel\n",
    "            if accum_disp[r] >= dxy or accum_disp[r] <= -dxy:\n",
    "\n",
    "                # move the row over by the number of pixels of accumulated offset\n",
    "                z_reshape[r,:] = np.roll(z_reshape[r,:],nshift[r])\n",
    "\n",
    "                # subtract the offset pixels from the displacement\n",
    "                accum_disp[r] -= dxy * nshift[r]\n",
    "\n",
    "        # Reshape the elevation box into an array for landlab\n",
    "        z_new = np.reshape(z_reshape, nrows*ncols)\n",
    "\n",
    "        # feed new z back into landlab\n",
    "        z[:] = z_new\n",
    "\n",
    "        # move the eq_counter ahead\n",
    "        eq_counter += 1"
   ]
  }
 ],
 "metadata": {
  "kernelspec": {
   "display_name": "Python 3",
   "language": "python",
   "name": "python3"
  },
  "language_info": {
   "codemirror_mode": {
    "name": "ipython",
    "version": 3
   },
   "file_extension": ".py",
   "mimetype": "text/x-python",
   "name": "python",
   "nbconvert_exporter": "python",
   "pygments_lexer": "ipython3",
   "version": "3.9.4"
  }
 },
 "nbformat": 4,
 "nbformat_minor": 4
}
